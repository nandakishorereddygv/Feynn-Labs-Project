{
 "cells": [
  {
   "cell_type": "markdown",
   "id": "4bbdb6e4",
   "metadata": {
    "papermill": {
     "duration": 0.011746,
     "end_time": "2024-10-17T06:50:03.511804",
     "exception": false,
     "start_time": "2024-10-17T06:50:03.500058",
     "status": "completed"
    },
    "tags": []
   },
   "source": [
    "# Table of Contents\n",
    "-[Introduction](#introduction)  \n",
    "-[Import Libraries](#import-libraries)  \n",
    "-[Load the Dataset](#load-the-dataset)  \n",
    "-[Overview of the Dataset](overview-of-the-dataset)  \n",
    "-[Merging the Dataframes](merging-the-dataframes)  \n",
    "-[Date Manipulation](date-manipulation)  \n",
    "-[Exploratory Data Analysis](exploratory-data-analysis)  \n",
    "-[Data Cleaning](data-cleaning)  \n",
    "-[Model Development](model-development)  \n",
    "-[Model Evaluation on Test Data](model-evaluation-on-test-data)  \n",
    "-[Submission of Results](submission-of-results)"
   ]
  },
  {
   "cell_type": "markdown",
   "id": "14ffb68d",
   "metadata": {
    "papermill": {
     "duration": 0.011037,
     "end_time": "2024-10-17T06:50:03.534479",
     "exception": false,
     "start_time": "2024-10-17T06:50:03.523442",
     "status": "completed"
    },
    "tags": []
   },
   "source": [
    "# Introduction  \n",
    "This is my first ever attempt to participate in a competition. I chose in this competetion because it seems to me a rather simple and easy task where I can apply my skills and abilities to gain in depth knowledge as well as to connect with the Data Analytics community."
   ]
  },
  {
   "cell_type": "markdown",
   "id": "02a6870c",
   "metadata": {
    "papermill": {
     "duration": 0.011113,
     "end_time": "2024-10-17T06:50:03.556794",
     "exception": false,
     "start_time": "2024-10-17T06:50:03.545681",
     "status": "completed"
    },
    "tags": []
   },
   "source": [
    "# Import Libraries"
   ]
  },
  {
   "cell_type": "code",
   "execution_count": 1,
   "id": "d7b75334",
   "metadata": {
    "execution": {
     "iopub.execute_input": "2024-10-17T06:50:03.581277Z",
     "iopub.status.busy": "2024-10-17T06:50:03.580674Z",
     "iopub.status.idle": "2024-10-17T06:50:06.379063Z",
     "shell.execute_reply": "2024-10-17T06:50:06.378005Z"
    },
    "papermill": {
     "duration": 2.813969,
     "end_time": "2024-10-17T06:50:06.381833",
     "exception": false,
     "start_time": "2024-10-17T06:50:03.567864",
     "status": "completed"
    },
    "tags": []
   },
   "outputs": [],
   "source": [
    "import pandas as pd\n",
    "import numpy as np\n",
    "import matplotlib.pyplot as plt\n",
    "import seaborn as sns"
   ]
  },
  {
   "cell_type": "markdown",
   "id": "11329397",
   "metadata": {
    "papermill": {
     "duration": 0.01082,
     "end_time": "2024-10-17T06:50:06.403813",
     "exception": false,
     "start_time": "2024-10-17T06:50:06.392993",
     "status": "completed"
    },
    "tags": []
   },
   "source": [
    "The basic libraries are imported while rest will be imported as and when needed during the work."
   ]
  },
  {
   "cell_type": "markdown",
   "id": "e95fb95c",
   "metadata": {
    "papermill": {
     "duration": 0.011013,
     "end_time": "2024-10-17T06:50:06.425917",
     "exception": false,
     "start_time": "2024-10-17T06:50:06.414904",
     "status": "completed"
    },
    "tags": []
   },
   "source": [
    "# Load the Dataset"
   ]
  },
  {
   "cell_type": "code",
   "execution_count": 2,
   "id": "5494028d",
   "metadata": {
    "execution": {
     "iopub.execute_input": "2024-10-17T06:50:06.450035Z",
     "iopub.status.busy": "2024-10-17T06:50:06.449426Z",
     "iopub.status.idle": "2024-10-17T06:50:09.733717Z",
     "shell.execute_reply": "2024-10-17T06:50:09.732628Z"
    },
    "papermill": {
     "duration": 3.299855,
     "end_time": "2024-10-17T06:50:09.736772",
     "exception": false,
     "start_time": "2024-10-17T06:50:06.436917",
     "status": "completed"
    },
    "tags": []
   },
   "outputs": [],
   "source": [
    "item_categories = pd.read_csv('/kaggle/input/competitive-data-science-predict-future-sales/item_categories.csv')\n",
    "items = pd.read_csv('/kaggle/input/competitive-data-science-predict-future-sales/items.csv')\n",
    "shops = pd.read_csv('/kaggle/input/competitive-data-science-predict-future-sales/shops.csv')\n",
    "train = pd.read_csv('/kaggle/input/competitive-data-science-predict-future-sales/sales_train.csv')\n",
    "test = pd.read_csv('/kaggle/input/competitive-data-science-predict-future-sales/test.csv')"
   ]
  },
  {
   "cell_type": "markdown",
   "id": "daa54d52",
   "metadata": {
    "papermill": {
     "duration": 0.011138,
     "end_time": "2024-10-17T06:50:09.759917",
     "exception": false,
     "start_time": "2024-10-17T06:50:09.748779",
     "status": "completed"
    },
    "tags": []
   },
   "source": [
    "# Overview of the Dataset"
   ]
  },
  {
   "cell_type": "code",
   "execution_count": 3,
   "id": "494498f8",
   "metadata": {
    "execution": {
     "iopub.execute_input": "2024-10-17T06:50:09.787693Z",
     "iopub.status.busy": "2024-10-17T06:50:09.786752Z",
     "iopub.status.idle": "2024-10-17T06:50:09.814829Z",
     "shell.execute_reply": "2024-10-17T06:50:09.813576Z"
    },
    "papermill": {
     "duration": 0.045545,
     "end_time": "2024-10-17T06:50:09.818292",
     "exception": false,
     "start_time": "2024-10-17T06:50:09.772747",
     "status": "completed"
    },
    "tags": []
   },
   "outputs": [
    {
     "name": "stdout",
     "output_type": "stream",
     "text": [
      "First Five Rows of item_categories Dataframe\n",
      "        item_category_name  item_category_id\n",
      "0  PC - Гарнитуры/Наушники                 0\n",
      "1         Аксессуары - PS2                 1\n",
      "2         Аксессуары - PS3                 2\n",
      "3         Аксессуары - PS4                 3\n",
      "4         Аксессуары - PSP                 4\n",
      " \n",
      "First Five Rows of items Dataframe\n",
      "                                           item_name  item_id  \\\n",
      "0          ! ВО ВЛАСТИ НАВАЖДЕНИЯ (ПЛАСТ.)         D        0   \n",
      "1  !ABBYY FineReader 12 Professional Edition Full...        1   \n",
      "2      ***В ЛУЧАХ СЛАВЫ   (UNV)                    D        2   \n",
      "3    ***ГОЛУБАЯ ВОЛНА  (Univ)                      D        3   \n",
      "4        ***КОРОБКА (СТЕКЛО)                       D        4   \n",
      "\n",
      "   item_category_id  \n",
      "0                40  \n",
      "1                76  \n",
      "2                40  \n",
      "3                40  \n",
      "4                40  \n",
      " \n",
      "First Five Rows of shops Dataframe\n",
      "                        shop_name  shop_id\n",
      "0   !Якутск Орджоникидзе, 56 фран        0\n",
      "1   !Якутск ТЦ \"Центральный\" фран        1\n",
      "2                Адыгея ТЦ \"Мега\"        2\n",
      "3  Балашиха ТРК \"Октябрь-Киномир\"        3\n",
      "4        Волжский ТЦ \"Волга Молл\"        4\n",
      " \n",
      "First Five Rows of train Dataframe\n",
      "         date  date_block_num  shop_id  item_id  item_price  item_cnt_day\n",
      "0  02.01.2013               0       59    22154      999.00           1.0\n",
      "1  03.01.2013               0       25     2552      899.00           1.0\n",
      "2  05.01.2013               0       25     2552      899.00          -1.0\n",
      "3  06.01.2013               0       25     2554     1709.05           1.0\n",
      "4  15.01.2013               0       25     2555     1099.00           1.0\n",
      " \n",
      "First Five Rows of test Dataframe\n",
      "   ID  shop_id  item_id\n",
      "0   0        5     5037\n",
      "1   1        5     5320\n",
      "2   2        5     5233\n",
      "3   3        5     5232\n",
      "4   4        5     5268\n"
     ]
    }
   ],
   "source": [
    "print('First Five Rows of item_categories Dataframe')\n",
    "print(item_categories.head(5))\n",
    "print(' ')\n",
    "print('First Five Rows of items Dataframe')\n",
    "print(items.head(5))\n",
    "print(' ')\n",
    "print('First Five Rows of shops Dataframe')\n",
    "print(shops.head(5))\n",
    "print(' ')\n",
    "print('First Five Rows of train Dataframe')\n",
    "print(train.head(5))\n",
    "print(' ')\n",
    "print('First Five Rows of test Dataframe')\n",
    "print(test.head(5))"
   ]
  },
  {
   "cell_type": "markdown",
   "id": "a6c63bec",
   "metadata": {
    "papermill": {
     "duration": 0.010991,
     "end_time": "2024-10-17T06:50:09.840924",
     "exception": false,
     "start_time": "2024-10-17T06:50:09.829933",
     "status": "completed"
    },
    "tags": []
   },
   "source": [
    "# Merging the Dataframes "
   ]
  },
  {
   "cell_type": "markdown",
   "id": "c61b1ad6",
   "metadata": {
    "papermill": {
     "duration": 0.011366,
     "end_time": "2024-10-17T06:50:09.863683",
     "exception": false,
     "start_time": "2024-10-17T06:50:09.852317",
     "status": "completed"
    },
    "tags": []
   },
   "source": [
    "We will now merge the 'train' & 'test' dataframes with 'items' and 'item_categories' on the basis of a similar column in each dataframe."
   ]
  },
  {
   "cell_type": "code",
   "execution_count": 4,
   "id": "2b3e8d11",
   "metadata": {
    "execution": {
     "iopub.execute_input": "2024-10-17T06:50:09.890590Z",
     "iopub.status.busy": "2024-10-17T06:50:09.889386Z",
     "iopub.status.idle": "2024-10-17T06:50:11.069083Z",
     "shell.execute_reply": "2024-10-17T06:50:11.067800Z"
    },
    "papermill": {
     "duration": 1.196487,
     "end_time": "2024-10-17T06:50:11.071996",
     "exception": false,
     "start_time": "2024-10-17T06:50:09.875509",
     "status": "completed"
    },
    "tags": []
   },
   "outputs": [],
   "source": [
    "train = train.merge(items, on='item_id', how='left')\n",
    "train = train.merge(item_categories, on='item_category_id', how='left')\n",
    "test = test.merge(items, on=\"item_id\", how=\"left\")\n",
    "test = test.merge(item_categories, on=\"item_category_id\", how=\"left\")"
   ]
  },
  {
   "cell_type": "code",
   "execution_count": 5,
   "id": "004fd171",
   "metadata": {
    "execution": {
     "iopub.execute_input": "2024-10-17T06:50:11.096311Z",
     "iopub.status.busy": "2024-10-17T06:50:11.095858Z",
     "iopub.status.idle": "2024-10-17T06:50:11.105831Z",
     "shell.execute_reply": "2024-10-17T06:50:11.104740Z"
    },
    "papermill": {
     "duration": 0.025482,
     "end_time": "2024-10-17T06:50:11.108804",
     "exception": false,
     "start_time": "2024-10-17T06:50:11.083322",
     "status": "completed"
    },
    "tags": []
   },
   "outputs": [
    {
     "data": {
      "text/plain": [
       "date                   object\n",
       "date_block_num          int64\n",
       "shop_id                 int64\n",
       "item_id                 int64\n",
       "item_price            float64\n",
       "item_cnt_day          float64\n",
       "item_name              object\n",
       "item_category_id        int64\n",
       "item_category_name     object\n",
       "dtype: object"
      ]
     },
     "execution_count": 5,
     "metadata": {},
     "output_type": "execute_result"
    }
   ],
   "source": [
    "train.dtypes"
   ]
  },
  {
   "cell_type": "code",
   "execution_count": 6,
   "id": "bea49d99",
   "metadata": {
    "execution": {
     "iopub.execute_input": "2024-10-17T06:50:11.133521Z",
     "iopub.status.busy": "2024-10-17T06:50:11.133096Z",
     "iopub.status.idle": "2024-10-17T06:50:11.142155Z",
     "shell.execute_reply": "2024-10-17T06:50:11.140997Z"
    },
    "papermill": {
     "duration": 0.02421,
     "end_time": "2024-10-17T06:50:11.144655",
     "exception": false,
     "start_time": "2024-10-17T06:50:11.120445",
     "status": "completed"
    },
    "tags": []
   },
   "outputs": [
    {
     "data": {
      "text/plain": [
       "ID                     int64\n",
       "shop_id                int64\n",
       "item_id                int64\n",
       "item_name             object\n",
       "item_category_id       int64\n",
       "item_category_name    object\n",
       "dtype: object"
      ]
     },
     "execution_count": 6,
     "metadata": {},
     "output_type": "execute_result"
    }
   ],
   "source": [
    "test.dtypes"
   ]
  },
  {
   "cell_type": "markdown",
   "id": "4d20e05d",
   "metadata": {
    "papermill": {
     "duration": 0.011222,
     "end_time": "2024-10-17T06:50:11.167467",
     "exception": false,
     "start_time": "2024-10-17T06:50:11.156245",
     "status": "completed"
    },
    "tags": []
   },
   "source": [
    "# Date Manipulation"
   ]
  },
  {
   "cell_type": "markdown",
   "id": "4d637a69",
   "metadata": {
    "papermill": {
     "duration": 0.011358,
     "end_time": "2024-10-17T06:50:11.190969",
     "exception": false,
     "start_time": "2024-10-17T06:50:11.179611",
     "status": "completed"
    },
    "tags": []
   },
   "source": [
    "As the date column in train dataframe is object type, so we will convert it to datetime type."
   ]
  },
  {
   "cell_type": "code",
   "execution_count": 7,
   "id": "1fd81f57",
   "metadata": {
    "execution": {
     "iopub.execute_input": "2024-10-17T06:50:11.218351Z",
     "iopub.status.busy": "2024-10-17T06:50:11.217910Z",
     "iopub.status.idle": "2024-10-17T06:50:11.678310Z",
     "shell.execute_reply": "2024-10-17T06:50:11.677028Z"
    },
    "papermill": {
     "duration": 0.477161,
     "end_time": "2024-10-17T06:50:11.681173",
     "exception": false,
     "start_time": "2024-10-17T06:50:11.204012",
     "status": "completed"
    },
    "tags": []
   },
   "outputs": [],
   "source": [
    "train[\"date\"] = pd.to_datetime(train[\"date\"], format=\"%d.%m.%Y\")"
   ]
  },
  {
   "cell_type": "code",
   "execution_count": 8,
   "id": "9b6dad1f",
   "metadata": {
    "execution": {
     "iopub.execute_input": "2024-10-17T06:50:11.706385Z",
     "iopub.status.busy": "2024-10-17T06:50:11.705921Z",
     "iopub.status.idle": "2024-10-17T06:50:11.723935Z",
     "shell.execute_reply": "2024-10-17T06:50:11.722607Z"
    },
    "papermill": {
     "duration": 0.033661,
     "end_time": "2024-10-17T06:50:11.726610",
     "exception": false,
     "start_time": "2024-10-17T06:50:11.692949",
     "status": "completed"
    },
    "tags": []
   },
   "outputs": [
    {
     "data": {
      "text/html": [
       "<div>\n",
       "<style scoped>\n",
       "    .dataframe tbody tr th:only-of-type {\n",
       "        vertical-align: middle;\n",
       "    }\n",
       "\n",
       "    .dataframe tbody tr th {\n",
       "        vertical-align: top;\n",
       "    }\n",
       "\n",
       "    .dataframe thead th {\n",
       "        text-align: right;\n",
       "    }\n",
       "</style>\n",
       "<table border=\"1\" class=\"dataframe\">\n",
       "  <thead>\n",
       "    <tr style=\"text-align: right;\">\n",
       "      <th></th>\n",
       "      <th>date</th>\n",
       "      <th>date_block_num</th>\n",
       "      <th>shop_id</th>\n",
       "      <th>item_id</th>\n",
       "      <th>item_price</th>\n",
       "      <th>item_cnt_day</th>\n",
       "      <th>item_name</th>\n",
       "      <th>item_category_id</th>\n",
       "      <th>item_category_name</th>\n",
       "    </tr>\n",
       "  </thead>\n",
       "  <tbody>\n",
       "    <tr>\n",
       "      <th>0</th>\n",
       "      <td>2013-01-02</td>\n",
       "      <td>0</td>\n",
       "      <td>59</td>\n",
       "      <td>22154</td>\n",
       "      <td>999.00</td>\n",
       "      <td>1.0</td>\n",
       "      <td>ЯВЛЕНИЕ 2012 (BD)</td>\n",
       "      <td>37</td>\n",
       "      <td>Кино - Blu-Ray</td>\n",
       "    </tr>\n",
       "    <tr>\n",
       "      <th>1</th>\n",
       "      <td>2013-01-03</td>\n",
       "      <td>0</td>\n",
       "      <td>25</td>\n",
       "      <td>2552</td>\n",
       "      <td>899.00</td>\n",
       "      <td>1.0</td>\n",
       "      <td>DEEP PURPLE  The House Of Blue Light  LP</td>\n",
       "      <td>58</td>\n",
       "      <td>Музыка - Винил</td>\n",
       "    </tr>\n",
       "    <tr>\n",
       "      <th>2</th>\n",
       "      <td>2013-01-05</td>\n",
       "      <td>0</td>\n",
       "      <td>25</td>\n",
       "      <td>2552</td>\n",
       "      <td>899.00</td>\n",
       "      <td>-1.0</td>\n",
       "      <td>DEEP PURPLE  The House Of Blue Light  LP</td>\n",
       "      <td>58</td>\n",
       "      <td>Музыка - Винил</td>\n",
       "    </tr>\n",
       "    <tr>\n",
       "      <th>3</th>\n",
       "      <td>2013-01-06</td>\n",
       "      <td>0</td>\n",
       "      <td>25</td>\n",
       "      <td>2554</td>\n",
       "      <td>1709.05</td>\n",
       "      <td>1.0</td>\n",
       "      <td>DEEP PURPLE  Who Do You Think We Are  LP</td>\n",
       "      <td>58</td>\n",
       "      <td>Музыка - Винил</td>\n",
       "    </tr>\n",
       "    <tr>\n",
       "      <th>4</th>\n",
       "      <td>2013-01-15</td>\n",
       "      <td>0</td>\n",
       "      <td>25</td>\n",
       "      <td>2555</td>\n",
       "      <td>1099.00</td>\n",
       "      <td>1.0</td>\n",
       "      <td>DEEP PURPLE 30 Very Best Of 2CD (Фирм.)</td>\n",
       "      <td>56</td>\n",
       "      <td>Музыка - CD фирменного производства</td>\n",
       "    </tr>\n",
       "  </tbody>\n",
       "</table>\n",
       "</div>"
      ],
      "text/plain": [
       "        date  date_block_num  shop_id  item_id  item_price  item_cnt_day  \\\n",
       "0 2013-01-02               0       59    22154      999.00           1.0   \n",
       "1 2013-01-03               0       25     2552      899.00           1.0   \n",
       "2 2013-01-05               0       25     2552      899.00          -1.0   \n",
       "3 2013-01-06               0       25     2554     1709.05           1.0   \n",
       "4 2013-01-15               0       25     2555     1099.00           1.0   \n",
       "\n",
       "                                  item_name  item_category_id  \\\n",
       "0                         ЯВЛЕНИЕ 2012 (BD)                37   \n",
       "1  DEEP PURPLE  The House Of Blue Light  LP                58   \n",
       "2  DEEP PURPLE  The House Of Blue Light  LP                58   \n",
       "3  DEEP PURPLE  Who Do You Think We Are  LP                58   \n",
       "4   DEEP PURPLE 30 Very Best Of 2CD (Фирм.)                56   \n",
       "\n",
       "                    item_category_name  \n",
       "0                       Кино - Blu-Ray  \n",
       "1                       Музыка - Винил  \n",
       "2                       Музыка - Винил  \n",
       "3                       Музыка - Винил  \n",
       "4  Музыка - CD фирменного производства  "
      ]
     },
     "execution_count": 8,
     "metadata": {},
     "output_type": "execute_result"
    }
   ],
   "source": [
    "train.head(5)"
   ]
  },
  {
   "cell_type": "code",
   "execution_count": 9,
   "id": "db3cc963",
   "metadata": {
    "execution": {
     "iopub.execute_input": "2024-10-17T06:50:11.753792Z",
     "iopub.status.busy": "2024-10-17T06:50:11.753135Z",
     "iopub.status.idle": "2024-10-17T06:50:11.767191Z",
     "shell.execute_reply": "2024-10-17T06:50:11.766031Z"
    },
    "papermill": {
     "duration": 0.030957,
     "end_time": "2024-10-17T06:50:11.769905",
     "exception": false,
     "start_time": "2024-10-17T06:50:11.738948",
     "status": "completed"
    },
    "tags": []
   },
   "outputs": [
    {
     "data": {
      "text/html": [
       "<div>\n",
       "<style scoped>\n",
       "    .dataframe tbody tr th:only-of-type {\n",
       "        vertical-align: middle;\n",
       "    }\n",
       "\n",
       "    .dataframe tbody tr th {\n",
       "        vertical-align: top;\n",
       "    }\n",
       "\n",
       "    .dataframe thead th {\n",
       "        text-align: right;\n",
       "    }\n",
       "</style>\n",
       "<table border=\"1\" class=\"dataframe\">\n",
       "  <thead>\n",
       "    <tr style=\"text-align: right;\">\n",
       "      <th></th>\n",
       "      <th>ID</th>\n",
       "      <th>shop_id</th>\n",
       "      <th>item_id</th>\n",
       "      <th>item_name</th>\n",
       "      <th>item_category_id</th>\n",
       "      <th>item_category_name</th>\n",
       "    </tr>\n",
       "  </thead>\n",
       "  <tbody>\n",
       "    <tr>\n",
       "      <th>0</th>\n",
       "      <td>0</td>\n",
       "      <td>5</td>\n",
       "      <td>5037</td>\n",
       "      <td>NHL 15 [PS3, русские субтитры]</td>\n",
       "      <td>19</td>\n",
       "      <td>Игры - PS3</td>\n",
       "    </tr>\n",
       "    <tr>\n",
       "      <th>1</th>\n",
       "      <td>1</td>\n",
       "      <td>5</td>\n",
       "      <td>5320</td>\n",
       "      <td>ONE DIRECTION  Made In The A.M.</td>\n",
       "      <td>55</td>\n",
       "      <td>Музыка - CD локального производства</td>\n",
       "    </tr>\n",
       "    <tr>\n",
       "      <th>2</th>\n",
       "      <td>2</td>\n",
       "      <td>5</td>\n",
       "      <td>5233</td>\n",
       "      <td>Need for Speed Rivals (Essentials) [PS3, русск...</td>\n",
       "      <td>19</td>\n",
       "      <td>Игры - PS3</td>\n",
       "    </tr>\n",
       "    <tr>\n",
       "      <th>3</th>\n",
       "      <td>3</td>\n",
       "      <td>5</td>\n",
       "      <td>5232</td>\n",
       "      <td>Need for Speed Rivals (Classics) [Xbox 360, ру...</td>\n",
       "      <td>23</td>\n",
       "      <td>Игры - XBOX 360</td>\n",
       "    </tr>\n",
       "    <tr>\n",
       "      <th>4</th>\n",
       "      <td>4</td>\n",
       "      <td>5</td>\n",
       "      <td>5268</td>\n",
       "      <td>Need for Speed [PS4, русская версия]</td>\n",
       "      <td>20</td>\n",
       "      <td>Игры - PS4</td>\n",
       "    </tr>\n",
       "  </tbody>\n",
       "</table>\n",
       "</div>"
      ],
      "text/plain": [
       "   ID  shop_id  item_id                                          item_name  \\\n",
       "0   0        5     5037                     NHL 15 [PS3, русские субтитры]   \n",
       "1   1        5     5320                    ONE DIRECTION  Made In The A.M.   \n",
       "2   2        5     5233  Need for Speed Rivals (Essentials) [PS3, русск...   \n",
       "3   3        5     5232  Need for Speed Rivals (Classics) [Xbox 360, ру...   \n",
       "4   4        5     5268               Need for Speed [PS4, русская версия]   \n",
       "\n",
       "   item_category_id                   item_category_name  \n",
       "0                19                           Игры - PS3  \n",
       "1                55  Музыка - CD локального производства  \n",
       "2                19                           Игры - PS3  \n",
       "3                23                      Игры - XBOX 360  \n",
       "4                20                           Игры - PS4  "
      ]
     },
     "execution_count": 9,
     "metadata": {},
     "output_type": "execute_result"
    }
   ],
   "source": [
    "test.head(5)"
   ]
  },
  {
   "cell_type": "markdown",
   "id": "d8e0e88a",
   "metadata": {
    "papermill": {
     "duration": 0.012918,
     "end_time": "2024-10-17T06:50:11.795734",
     "exception": false,
     "start_time": "2024-10-17T06:50:11.782816",
     "status": "completed"
    },
    "tags": []
   },
   "source": [
    "# Exploratory Data Analysis"
   ]
  },
  {
   "cell_type": "code",
   "execution_count": 10,
   "id": "2ebee291",
   "metadata": {
    "execution": {
     "iopub.execute_input": "2024-10-17T06:50:11.822639Z",
     "iopub.status.busy": "2024-10-17T06:50:11.822145Z",
     "iopub.status.idle": "2024-10-17T06:50:11.900448Z",
     "shell.execute_reply": "2024-10-17T06:50:11.899315Z"
    },
    "papermill": {
     "duration": 0.09454,
     "end_time": "2024-10-17T06:50:11.902946",
     "exception": false,
     "start_time": "2024-10-17T06:50:11.808406",
     "status": "completed"
    },
    "tags": []
   },
   "outputs": [
    {
     "data": {
      "text/plain": [
       "date\n",
       "2013-01-01    1951.0\n",
       "2013-01-02    8198.0\n",
       "2013-01-03    7422.0\n",
       "2013-01-04    6617.0\n",
       "2013-01-05    6346.0\n",
       "Name: item_cnt_day, dtype: float64"
      ]
     },
     "execution_count": 10,
     "metadata": {},
     "output_type": "execute_result"
    }
   ],
   "source": [
    "# daily sales\n",
    "sales_daily = train.groupby('date')['item_cnt_day'].sum()\n",
    "sales_daily.head(5)"
   ]
  },
  {
   "cell_type": "code",
   "execution_count": 11,
   "id": "fe569b5d",
   "metadata": {
    "execution": {
     "iopub.execute_input": "2024-10-17T06:50:11.929256Z",
     "iopub.status.busy": "2024-10-17T06:50:11.928800Z",
     "iopub.status.idle": "2024-10-17T06:50:12.842917Z",
     "shell.execute_reply": "2024-10-17T06:50:12.841468Z"
    },
    "papermill": {
     "duration": 0.930411,
     "end_time": "2024-10-17T06:50:12.845600",
     "exception": false,
     "start_time": "2024-10-17T06:50:11.915189",
     "status": "completed"
    },
    "tags": []
   },
   "outputs": [
    {
     "data": {
      "text/plain": [
       "date\n",
       "2013-01-31    131479.0\n",
       "2013-02-28    128090.0\n",
       "2013-03-31    147142.0\n",
       "2013-04-30    107190.0\n",
       "2013-05-31    106970.0\n",
       "Freq: ME, Name: item_cnt_day, dtype: float64"
      ]
     },
     "execution_count": 11,
     "metadata": {},
     "output_type": "execute_result"
    }
   ],
   "source": [
    "# Extract month from the date\n",
    "train['month'] = train['date'].dt.month_name()\n",
    "# monthly sales\n",
    "sales_monthly = sales_daily.resample('ME').sum()\n",
    "sales_monthly.head(5)"
   ]
  },
  {
   "cell_type": "code",
   "execution_count": 12,
   "id": "397b1b88",
   "metadata": {
    "execution": {
     "iopub.execute_input": "2024-10-17T06:50:12.872902Z",
     "iopub.status.busy": "2024-10-17T06:50:12.872403Z",
     "iopub.status.idle": "2024-10-17T06:50:13.885812Z",
     "shell.execute_reply": "2024-10-17T06:50:13.883677Z"
    },
    "papermill": {
     "duration": 1.030537,
     "end_time": "2024-10-17T06:50:13.888765",
     "exception": false,
     "start_time": "2024-10-17T06:50:12.858228",
     "status": "completed"
    },
    "tags": []
   },
   "outputs": [
    {
     "name": "stderr",
     "output_type": "stream",
     "text": [
      "/opt/conda/lib/python3.10/site-packages/seaborn/_oldcore.py:1119: FutureWarning: use_inf_as_na option is deprecated and will be removed in a future version. Convert inf values to NaN before operating instead.\n",
      "  with pd.option_context('mode.use_inf_as_na', True):\n",
      "/opt/conda/lib/python3.10/site-packages/seaborn/_oldcore.py:1119: FutureWarning: use_inf_as_na option is deprecated and will be removed in a future version. Convert inf values to NaN before operating instead.\n",
      "  with pd.option_context('mode.use_inf_as_na', True):\n"
     ]
    },
    {
     "data": {
      "image/png": "[encoded data removed]",
      "text/plain": [
       "<Figure size 1200x600 with 1 Axes>"
      ]
     },
     "metadata": {},
     "output_type": "display_data"
    }
   ],
   "source": [
    "# Extract year from the date\n",
    "train['year'] = train['date'].dt.year\n",
    "\n",
    "# Define the desired sequence of months\n",
    "month_sequence = ['January', 'February', 'March', 'April', 'May', 'June', \n",
    "                  'July', 'August', 'September', 'October', 'November', 'December']\n",
    "\n",
    "# Group by year and month, then calculate total sales\n",
    "sales_yearly_monthly = train.groupby(['year', 'month'])['item_cnt_day'].sum().unstack()\n",
    "\n",
    "# Reindex the columns to ensure the months are in the correct order\n",
    "sales_yearly_monthly = sales_yearly_monthly.reindex(columns=month_sequence)\n",
    "\n",
    "# Plot sales by month and by year\n",
    "plt.figure(figsize=(12, 6))\n",
    "sns.lineplot(data=sales_yearly_monthly.T)  # Transpose for correct plotting\n",
    "plt.title('Total Sales of Item Count By Year and Month')\n",
    "plt.xlabel('Month')\n",
    "plt.ylabel('Item Count')\n",
    "plt.legend(title='Year')\n",
    "plt.xticks(rotation=45)\n",
    "plt.tight_layout()\n",
    "plt.show()"
   ]
  },
  {
   "cell_type": "code",
   "execution_count": 13,
   "id": "f5720f5a",
   "metadata": {
    "execution": {
     "iopub.execute_input": "2024-10-17T06:50:13.919772Z",
     "iopub.status.busy": "2024-10-17T06:50:13.919282Z",
     "iopub.status.idle": "2024-10-17T06:50:16.160639Z",
     "shell.execute_reply": "2024-10-17T06:50:16.159239Z"
    },
    "papermill": {
     "duration": 2.259513,
     "end_time": "2024-10-17T06:50:16.163171",
     "exception": false,
     "start_time": "2024-10-17T06:50:13.903658",
     "status": "completed"
    },
    "tags": []
   },
   "outputs": [
    {
     "data": {
      "image/png": "[encoded data removed]",
      "text/plain": [
       "<Figure size 1000x1200 with 1 Axes>"
      ]
     },
     "metadata": {},
     "output_type": "display_data"
    }
   ],
   "source": [
    "# To view the outliers in Sales of Item Counts by shop Id\n",
    "plt.figure(figsize=(10, 12))\n",
    "sns.boxplot(y='shop_id', x='item_cnt_day', data=train, orient='h',\n",
    "           medianprops={\"color\": \"r\", \"linewidth\": 1})\n",
    "plt.title('Item Count by Shop ID')\n",
    "plt.xlabel('Daily Item Count')\n",
    "plt.ylabel('Shop ID')\n",
    "plt.show()"
   ]
  },
  {
   "cell_type": "code",
   "execution_count": 14,
   "id": "5e902273",
   "metadata": {
    "execution": {
     "iopub.execute_input": "2024-10-17T06:50:16.196633Z",
     "iopub.status.busy": "2024-10-17T06:50:16.196158Z",
     "iopub.status.idle": "2024-10-17T06:50:16.297005Z",
     "shell.execute_reply": "2024-10-17T06:50:16.295784Z"
    },
    "papermill": {
     "duration": 0.120916,
     "end_time": "2024-10-17T06:50:16.299912",
     "exception": false,
     "start_time": "2024-10-17T06:50:16.178996",
     "status": "completed"
    },
    "tags": []
   },
   "outputs": [
    {
     "name": "stdout",
     "output_type": "stream",
     "text": [
      "Mean of item count per day:  1.242640885140891\n",
      "99.9th quantile of item count:  22.0\n",
      "Mean of item price:  890.8532326980126\n",
      "99.9th quantile of item price:  23990.0\n"
     ]
    }
   ],
   "source": [
    "# Deal with Outliers\n",
    "\n",
    "import scipy.stats as stats\n",
    "\n",
    "print('Mean of item count per day: ',train.item_cnt_day.mean())\n",
    "print('99.9th quantile of item count: ',train.item_cnt_day.quantile(0.999))\n",
    "print('Mean of item price: ',train.item_price.mean())\n",
    "print('99.9th quantile of item price: ',train.item_price.quantile(0.999))"
   ]
  },
  {
   "cell_type": "code",
   "execution_count": 15,
   "id": "6e94e149",
   "metadata": {
    "execution": {
     "iopub.execute_input": "2024-10-17T06:50:16.333129Z",
     "iopub.status.busy": "2024-10-17T06:50:16.332670Z",
     "iopub.status.idle": "2024-10-17T06:50:19.369688Z",
     "shell.execute_reply": "2024-10-17T06:50:19.368458Z"
    },
    "papermill": {
     "duration": 3.056959,
     "end_time": "2024-10-17T06:50:19.372470",
     "exception": false,
     "start_time": "2024-10-17T06:50:16.315511",
     "status": "completed"
    },
    "tags": []
   },
   "outputs": [
    {
     "data": {
      "image/png": "[encoded data removed]",
      "text/plain": [
       "<Figure size 1500x200 with 2 Axes>"
      ]
     },
     "metadata": {},
     "output_type": "display_data"
    }
   ],
   "source": [
    "fig, axes = plt.subplots(1,2, figsize = (15,2))\n",
    "_ = sns.boxplot(x=train.item_cnt_day, ax=axes[0])\n",
    "_ = sns.boxplot(x=train.item_price, ax=axes[1])"
   ]
  },
  {
   "cell_type": "code",
   "execution_count": 16,
   "id": "dd19d09c",
   "metadata": {
    "execution": {
     "iopub.execute_input": "2024-10-17T06:50:19.407016Z",
     "iopub.status.busy": "2024-10-17T06:50:19.406582Z",
     "iopub.status.idle": "2024-10-17T06:50:21.963829Z",
     "shell.execute_reply": "2024-10-17T06:50:21.962052Z"
    },
    "papermill": {
     "duration": 2.577929,
     "end_time": "2024-10-17T06:50:21.966743",
     "exception": false,
     "start_time": "2024-10-17T06:50:19.388814",
     "status": "completed"
    },
    "tags": []
   },
   "outputs": [
    {
     "data": {
      "text/plain": [
       "6"
      ]
     },
     "execution_count": 16,
     "metadata": {},
     "output_type": "execute_result"
    }
   ],
   "source": [
    "train.duplicated().sum()"
   ]
  },
  {
   "cell_type": "code",
   "execution_count": 17,
   "id": "99302e37",
   "metadata": {
    "execution": {
     "iopub.execute_input": "2024-10-17T06:50:22.004302Z",
     "iopub.status.busy": "2024-10-17T06:50:22.003859Z",
     "iopub.status.idle": "2024-10-17T06:50:22.426184Z",
     "shell.execute_reply": "2024-10-17T06:50:22.424800Z"
    },
    "papermill": {
     "duration": 0.445205,
     "end_time": "2024-10-17T06:50:22.428736",
     "exception": false,
     "start_time": "2024-10-17T06:50:21.983531",
     "status": "completed"
    },
    "tags": []
   },
   "outputs": [
    {
     "data": {
      "text/plain": [
       "date                  0\n",
       "date_block_num        0\n",
       "shop_id               0\n",
       "item_id               0\n",
       "item_price            0\n",
       "item_cnt_day          0\n",
       "item_name             0\n",
       "item_category_id      0\n",
       "item_category_name    0\n",
       "month                 0\n",
       "year                  0\n",
       "dtype: int64"
      ]
     },
     "execution_count": 17,
     "metadata": {},
     "output_type": "execute_result"
    }
   ],
   "source": [
    "train.isnull().sum()"
   ]
  },
  {
   "cell_type": "markdown",
   "id": "cb298100",
   "metadata": {
    "papermill": {
     "duration": 0.015755,
     "end_time": "2024-10-17T06:50:22.460635",
     "exception": false,
     "start_time": "2024-10-17T06:50:22.444880",
     "status": "completed"
    },
    "tags": []
   },
   "source": [
    "# Data Cleaning"
   ]
  },
  {
   "cell_type": "code",
   "execution_count": 18,
   "id": "235868c2",
   "metadata": {
    "execution": {
     "iopub.execute_input": "2024-10-17T06:50:22.496711Z",
     "iopub.status.busy": "2024-10-17T06:50:22.496185Z",
     "iopub.status.idle": "2024-10-17T06:50:23.326919Z",
     "shell.execute_reply": "2024-10-17T06:50:23.325597Z"
    },
    "papermill": {
     "duration": 0.852226,
     "end_time": "2024-10-17T06:50:23.329617",
     "exception": false,
     "start_time": "2024-10-17T06:50:22.477391",
     "status": "completed"
    },
    "tags": []
   },
   "outputs": [],
   "source": [
    "train[train.item_price<0]\n",
    "train = train[(train.item_price < train.item_price.quantile(0.99999)) & (train.item_price > 0)]\n",
    "train = train[train.item_cnt_day < train.item_cnt_day.quantile(0.99999)]"
   ]
  },
  {
   "cell_type": "code",
   "execution_count": 19,
   "id": "ce0d6313",
   "metadata": {
    "execution": {
     "iopub.execute_input": "2024-10-17T06:50:23.364349Z",
     "iopub.status.busy": "2024-10-17T06:50:23.363870Z",
     "iopub.status.idle": "2024-10-17T06:50:26.237214Z",
     "shell.execute_reply": "2024-10-17T06:50:26.236032Z"
    },
    "papermill": {
     "duration": 2.894741,
     "end_time": "2024-10-17T06:50:26.240472",
     "exception": false,
     "start_time": "2024-10-17T06:50:23.345731",
     "status": "completed"
    },
    "tags": []
   },
   "outputs": [],
   "source": [
    "train = train.drop_duplicates()"
   ]
  },
  {
   "cell_type": "code",
   "execution_count": 20,
   "id": "5db1053b",
   "metadata": {
    "execution": {
     "iopub.execute_input": "2024-10-17T06:50:26.276709Z",
     "iopub.status.busy": "2024-10-17T06:50:26.275614Z",
     "iopub.status.idle": "2024-10-17T06:50:26.454941Z",
     "shell.execute_reply": "2024-10-17T06:50:26.453473Z"
    },
    "papermill": {
     "duration": 0.199756,
     "end_time": "2024-10-17T06:50:26.457771",
     "exception": false,
     "start_time": "2024-10-17T06:50:26.258015",
     "status": "completed"
    },
    "tags": []
   },
   "outputs": [],
   "source": [
    "train['total_sales'] = train['item_price'] * train['item_cnt_day']\n",
    "\n",
    "monthly_sales = train.groupby(['date_block_num', 'shop_id'], as_index=False).agg({'total_sales': 'sum'})"
   ]
  },
  {
   "cell_type": "markdown",
   "id": "97b18d2c",
   "metadata": {
    "papermill": {
     "duration": 0.015985,
     "end_time": "2024-10-17T06:50:26.490601",
     "exception": false,
     "start_time": "2024-10-17T06:50:26.474616",
     "status": "completed"
    },
    "tags": []
   },
   "source": [
    "# Model Development"
   ]
  },
  {
   "cell_type": "code",
   "execution_count": 21,
   "id": "70f9b24f",
   "metadata": {
    "execution": {
     "iopub.execute_input": "2024-10-17T06:50:26.527034Z",
     "iopub.status.busy": "2024-10-17T06:50:26.525849Z",
     "iopub.status.idle": "2024-10-17T06:50:27.110307Z",
     "shell.execute_reply": "2024-10-17T06:50:27.109088Z"
    },
    "papermill": {
     "duration": 0.605102,
     "end_time": "2024-10-17T06:50:27.113124",
     "exception": false,
     "start_time": "2024-10-17T06:50:26.508022",
     "status": "completed"
    },
    "tags": []
   },
   "outputs": [],
   "source": [
    "from sklearn.model_selection import GridSearchCV, train_test_split\n",
    "from sklearn.metrics import mean_squared_error, r2_score\n",
    "import xgboost as xgb"
   ]
  },
  {
   "cell_type": "code",
   "execution_count": 22,
   "id": "69d80029",
   "metadata": {
    "execution": {
     "iopub.execute_input": "2024-10-17T06:50:27.149041Z",
     "iopub.status.busy": "2024-10-17T06:50:27.148601Z",
     "iopub.status.idle": "2024-10-17T06:50:27.156097Z",
     "shell.execute_reply": "2024-10-17T06:50:27.154937Z"
    },
    "papermill": {
     "duration": 0.028237,
     "end_time": "2024-10-17T06:50:27.158668",
     "exception": false,
     "start_time": "2024-10-17T06:50:27.130431",
     "status": "completed"
    },
    "tags": []
   },
   "outputs": [],
   "source": [
    "# Feature set and target variable\n",
    "X = monthly_sales[['date_block_num', 'shop_id']]  # Example feature set\n",
    "y = monthly_sales['total_sales']  # Target variable"
   ]
  },
  {
   "cell_type": "code",
   "execution_count": 23,
   "id": "3c1d5df0",
   "metadata": {
    "execution": {
     "iopub.execute_input": "2024-10-17T06:50:27.192772Z",
     "iopub.status.busy": "2024-10-17T06:50:27.192299Z",
     "iopub.status.idle": "2024-10-17T06:50:27.202188Z",
     "shell.execute_reply": "2024-10-17T06:50:27.201051Z"
    },
    "papermill": {
     "duration": 0.030111,
     "end_time": "2024-10-17T06:50:27.204922",
     "exception": false,
     "start_time": "2024-10-17T06:50:27.174811",
     "status": "completed"
    },
    "tags": []
   },
   "outputs": [],
   "source": [
    "# Splitting data into training and validation sets (80% train, 20% validation)\n",
    "X_train, X_val, y_train, y_val = train_test_split(X, y, test_size=0.2, random_state=42)"
   ]
  },
  {
   "cell_type": "code",
   "execution_count": 24,
   "id": "cd0f04da",
   "metadata": {
    "execution": {
     "iopub.execute_input": "2024-10-17T06:50:27.240640Z",
     "iopub.status.busy": "2024-10-17T06:50:27.240155Z",
     "iopub.status.idle": "2024-10-17T06:50:27.246647Z",
     "shell.execute_reply": "2024-10-17T06:50:27.245354Z"
    },
    "papermill": {
     "duration": 0.027118,
     "end_time": "2024-10-17T06:50:27.249169",
     "exception": false,
     "start_time": "2024-10-17T06:50:27.222051",
     "status": "completed"
    },
    "tags": []
   },
   "outputs": [],
   "source": [
    "# Defining the parameter grid for GridSearchCV\n",
    "param_grid = {\n",
    "    'n_estimators': [50, 100],  # Number of boosting rounds\n",
    "    'learning_rate': [0.01, 0.2],  # Learning rate\n",
    "    'max_depth': [3, 5],  # Maximum depth of trees\n",
    "    'subsample': [0.7, 1.0],  # Fraction of samples for fitting individual trees\n",
    "    'colsample_bytree': [0.7, 1.0],  # Fraction of features used per tree\n",
    "    'gamma': [0, 0.2]  # Minimum loss reduction required to make a split\n",
    "}"
   ]
  },
  {
   "cell_type": "code",
   "execution_count": 25,
   "id": "faafbcd0",
   "metadata": {
    "execution": {
     "iopub.execute_input": "2024-10-17T06:50:27.283256Z",
     "iopub.status.busy": "2024-10-17T06:50:27.282806Z",
     "iopub.status.idle": "2024-10-17T06:50:34.292904Z",
     "shell.execute_reply": "2024-10-17T06:50:34.291505Z"
    },
    "papermill": {
     "duration": 7.030256,
     "end_time": "2024-10-17T06:50:34.295649",
     "exception": false,
     "start_time": "2024-10-17T06:50:27.265393",
     "status": "completed"
    },
    "tags": []
   },
   "outputs": [
    {
     "name": "stdout",
     "output_type": "stream",
     "text": [
      "Fitting 5 folds for each of 64 candidates, totalling 320 fits\n"
     ]
    },
    {
     "data": {
      "text/html": [
       "<style>#sk-container-id-1 {color: black;background-color: white;}#sk-container-id-1 pre{padding: 0;}#sk-container-id-1 div.sk-toggleable {background-color: white;}#sk-container-id-1 label.sk-toggleable__label {cursor: pointer;display: block;width: 100%;margin-bottom: 0;padding: 0.3em;box-sizing: border-box;text-align: center;}#sk-container-id-1 label.sk-toggleable__label-arrow:before {content: \"▸\";float: left;margin-right: 0.25em;color: #696969;}#sk-container-id-1 label.sk-toggleable__label-arrow:hover:before {color: black;}#sk-container-id-1 div.sk-estimator:hover label.sk-toggleable__label-arrow:before {color: black;}#sk-container-id-1 div.sk-toggleable__content {max-height: 0;max-width: 0;overflow: hidden;text-align: left;background-color: #f0f8ff;}#sk-container-id-1 div.sk-toggleable__content pre {margin: 0.2em;color: black;border-radius: 0.25em;background-color: #f0f8ff;}#sk-container-id-1 input.sk-toggleable__control:checked~div.sk-toggleable__content {max-height: 200px;max-width: 100%;overflow: auto;}#sk-container-id-1 input.sk-toggleable__control:checked~label.sk-toggleable__label-arrow:before {content: \"▾\";}#sk-container-id-1 div.sk-estimator input.sk-toggleable__control:checked~label.sk-toggleable__label {background-color: #d4ebff;}#sk-container-id-1 div.sk-label input.sk-toggleable__control:checked~label.sk-toggleable__label {background-color: #d4ebff;}#sk-container-id-1 input.sk-hidden--visually {border: 0;clip: rect(1px 1px 1px 1px);clip: rect(1px, 1px, 1px, 1px);height: 1px;margin: -1px;overflow: hidden;padding: 0;position: absolute;width: 1px;}#sk-container-id-1 div.sk-estimator {font-family: monospace;background-color: #f0f8ff;border: 1px dotted black;border-radius: 0.25em;box-sizing: border-box;margin-bottom: 0.5em;}#sk-container-id-1 div.sk-estimator:hover {background-color: #d4ebff;}#sk-container-id-1 div.sk-parallel-item::after {content: \"\";width: 100%;border-bottom: 1px solid gray;flex-grow: 1;}#sk-container-id-1 div.sk-label:hover label.sk-toggleable__label {background-color: #d4ebff;}#sk-container-id-1 div.sk-serial::before {content: \"\";position: absolute;border-left: 1px solid gray;box-sizing: border-box;top: 0;bottom: 0;left: 50%;z-index: 0;}#sk-container-id-1 div.sk-serial {display: flex;flex-direction: column;align-items: center;background-color: white;padding-right: 0.2em;padding-left: 0.2em;position: relative;}#sk-container-id-1 div.sk-item {position: relative;z-index: 1;}#sk-container-id-1 div.sk-parallel {display: flex;align-items: stretch;justify-content: center;background-color: white;position: relative;}#sk-container-id-1 div.sk-item::before, #sk-container-id-1 div.sk-parallel-item::before {content: \"\";position: absolute;border-left: 1px solid gray;box-sizing: border-box;top: 0;bottom: 0;left: 50%;z-index: -1;}#sk-container-id-1 div.sk-parallel-item {display: flex;flex-direction: column;z-index: 1;position: relative;background-color: white;}#sk-container-id-1 div.sk-parallel-item:first-child::after {align-self: flex-end;width: 50%;}#sk-container-id-1 div.sk-parallel-item:last-child::after {align-self: flex-start;width: 50%;}#sk-container-id-1 div.sk-parallel-item:only-child::after {width: 0;}#sk-container-id-1 div.sk-dashed-wrapped {border: 1px dashed gray;margin: 0 0.4em 0.5em 0.4em;box-sizing: border-box;padding-bottom: 0.4em;background-color: white;}#sk-container-id-1 div.sk-label label {font-family: monospace;font-weight: bold;display: inline-block;line-height: 1.2em;}#sk-container-id-1 div.sk-label-container {text-align: center;}#sk-container-id-1 div.sk-container {/* jupyter's `normalize.less` sets `[hidden] { display: none; }` but bootstrap.min.css set `[hidden] { display: none !important; }` so we also need the `!important` here to be able to override the default hidden behavior on the sphinx rendered scikit-learn.org. See: https://github.com/scikit-learn/scikit-learn/issues/21755 */display: inline-block !important;position: relative;}#sk-container-id-1 div.sk-text-repr-fallback {display: none;}</style><div id=\"sk-container-id-1\" class=\"sk-top-container\"><div class=\"sk-text-repr-fallback\"><pre>GridSearchCV(cv=5,\n",
       "             estimator=XGBRegressor(base_score=None, booster=None,\n",
       "                                    callbacks=None, colsample_bylevel=None,\n",
       "                                    colsample_bynode=None,\n",
       "                                    colsample_bytree=None, device=None,\n",
       "                                    early_stopping_rounds=None,\n",
       "                                    enable_categorical=False, eval_metric=None,\n",
       "                                    feature_types=None, gamma=None,\n",
       "                                    grow_policy=None, importance_type=None,\n",
       "                                    interaction_constraints=None,\n",
       "                                    learning_rate=None, m...\n",
       "                                    min_child_weight=None, missing=nan,\n",
       "                                    monotone_constraints=None,\n",
       "                                    multi_strategy=None, n_estimators=None,\n",
       "                                    n_jobs=None, num_parallel_tree=None,\n",
       "                                    random_state=None, ...),\n",
       "             n_jobs=-1,\n",
       "             param_grid={&#x27;colsample_bytree&#x27;: [0.7, 1.0], &#x27;gamma&#x27;: [0, 0.2],\n",
       "                         &#x27;learning_rate&#x27;: [0.01, 0.2], &#x27;max_depth&#x27;: [3, 5],\n",
       "                         &#x27;n_estimators&#x27;: [50, 100], &#x27;subsample&#x27;: [0.7, 1.0]},\n",
       "             scoring=&#x27;neg_mean_squared_error&#x27;, verbose=1)</pre><b>In a Jupyter environment, please rerun this cell to show the HTML representation or trust the notebook. <br />On GitHub, the HTML representation is unable to render, please try loading this page with nbviewer.org.</b></div><div class=\"sk-container\" hidden><div class=\"sk-item sk-dashed-wrapped\"><div class=\"sk-label-container\"><div class=\"sk-label sk-toggleable\"><input class=\"sk-toggleable__control sk-hidden--visually\" id=\"sk-estimator-id-1\" type=\"checkbox\" ><label for=\"sk-estimator-id-1\" class=\"sk-toggleable__label sk-toggleable__label-arrow\">GridSearchCV</label><div class=\"sk-toggleable__content\"><pre>GridSearchCV(cv=5,\n",
       "             estimator=XGBRegressor(base_score=None, booster=None,\n",
       "                                    callbacks=None, colsample_bylevel=None,\n",
       "                                    colsample_bynode=None,\n",
       "                                    colsample_bytree=None, device=None,\n",
       "                                    early_stopping_rounds=None,\n",
       "                                    enable_categorical=False, eval_metric=None,\n",
       "                                    feature_types=None, gamma=None,\n",
       "                                    grow_policy=None, importance_type=None,\n",
       "                                    interaction_constraints=None,\n",
       "                                    learning_rate=None, m...\n",
       "                                    min_child_weight=None, missing=nan,\n",
       "                                    monotone_constraints=None,\n",
       "                                    multi_strategy=None, n_estimators=None,\n",
       "                                    n_jobs=None, num_parallel_tree=None,\n",
       "                                    random_state=None, ...),\n",
       "             n_jobs=-1,\n",
       "             param_grid={&#x27;colsample_bytree&#x27;: [0.7, 1.0], &#x27;gamma&#x27;: [0, 0.2],\n",
       "                         &#x27;learning_rate&#x27;: [0.01, 0.2], &#x27;max_depth&#x27;: [3, 5],\n",
       "                         &#x27;n_estimators&#x27;: [50, 100], &#x27;subsample&#x27;: [0.7, 1.0]},\n",
       "             scoring=&#x27;neg_mean_squared_error&#x27;, verbose=1)</pre></div></div></div><div class=\"sk-parallel\"><div class=\"sk-parallel-item\"><div class=\"sk-item\"><div class=\"sk-label-container\"><div class=\"sk-label sk-toggleable\"><input class=\"sk-toggleable__control sk-hidden--visually\" id=\"sk-estimator-id-2\" type=\"checkbox\" ><label for=\"sk-estimator-id-2\" class=\"sk-toggleable__label sk-toggleable__label-arrow\">estimator: XGBRegressor</label><div class=\"sk-toggleable__content\"><pre>XGBRegressor(base_score=None, booster=None, callbacks=None,\n",
       "             colsample_bylevel=None, colsample_bynode=None,\n",
       "             colsample_bytree=None, device=None, early_stopping_rounds=None,\n",
       "             enable_categorical=False, eval_metric=None, feature_types=None,\n",
       "             gamma=None, grow_policy=None, importance_type=None,\n",
       "             interaction_constraints=None, learning_rate=None, max_bin=None,\n",
       "             max_cat_threshold=None, max_cat_to_onehot=None,\n",
       "             max_delta_step=None, max_depth=None, max_leaves=None,\n",
       "             min_child_weight=None, missing=nan, monotone_constraints=None,\n",
       "             multi_strategy=None, n_estimators=None, n_jobs=None,\n",
       "             num_parallel_tree=None, random_state=None, ...)</pre></div></div></div><div class=\"sk-serial\"><div class=\"sk-item\"><div class=\"sk-estimator sk-toggleable\"><input class=\"sk-toggleable__control sk-hidden--visually\" id=\"sk-estimator-id-3\" type=\"checkbox\" ><label for=\"sk-estimator-id-3\" class=\"sk-toggleable__label sk-toggleable__label-arrow\">XGBRegressor</label><div class=\"sk-toggleable__content\"><pre>XGBRegressor(base_score=None, booster=None, callbacks=None,\n",
       "             colsample_bylevel=None, colsample_bynode=None,\n",
       "             colsample_bytree=None, device=None, early_stopping_rounds=None,\n",
       "             enable_categorical=False, eval_metric=None, feature_types=None,\n",
       "             gamma=None, grow_policy=None, importance_type=None,\n",
       "             interaction_constraints=None, learning_rate=None, max_bin=None,\n",
       "             max_cat_threshold=None, max_cat_to_onehot=None,\n",
       "             max_delta_step=None, max_depth=None, max_leaves=None,\n",
       "             min_child_weight=None, missing=nan, monotone_constraints=None,\n",
       "             multi_strategy=None, n_estimators=None, n_jobs=None,\n",
       "             num_parallel_tree=None, random_state=None, ...)</pre></div></div></div></div></div></div></div></div></div></div>"
      ],
      "text/plain": [
       "GridSearchCV(cv=5,\n",
       "             estimator=XGBRegressor(base_score=None, booster=None,\n",
       "                                    callbacks=None, colsample_bylevel=None,\n",
       "                                    colsample_bynode=None,\n",
       "                                    colsample_bytree=None, device=None,\n",
       "                                    early_stopping_rounds=None,\n",
       "                                    enable_categorical=False, eval_metric=None,\n",
       "                                    feature_types=None, gamma=None,\n",
       "                                    grow_policy=None, importance_type=None,\n",
       "                                    interaction_constraints=None,\n",
       "                                    learning_rate=None, m...\n",
       "                                    min_child_weight=None, missing=nan,\n",
       "                                    monotone_constraints=None,\n",
       "                                    multi_strategy=None, n_estimators=None,\n",
       "                                    n_jobs=None, num_parallel_tree=None,\n",
       "                                    random_state=None, ...),\n",
       "             n_jobs=-1,\n",
       "             param_grid={'colsample_bytree': [0.7, 1.0], 'gamma': [0, 0.2],\n",
       "                         'learning_rate': [0.01, 0.2], 'max_depth': [3, 5],\n",
       "                         'n_estimators': [50, 100], 'subsample': [0.7, 1.0]},\n",
       "             scoring='neg_mean_squared_error', verbose=1)"
      ]
     },
     "execution_count": 25,
     "metadata": {},
     "output_type": "execute_result"
    }
   ],
   "source": [
    "# Initializing the XGBoost regressor\n",
    "xgb_regressor = xgb.XGBRegressor()\n",
    "\n",
    "# Setting up GridSearchCV with 5-fold cross-validation\n",
    "grid_search = GridSearchCV(estimator=xgb_regressor, \n",
    "                           param_grid=param_grid, \n",
    "                           scoring='neg_mean_squared_error',  # Optimizing for MSE\n",
    "                           cv=5,  # 5-fold cross-validation\n",
    "                           verbose=1,  # Output progress\n",
    "                           n_jobs=-1)  # Use all available cores\n",
    "\n",
    "# Fitting the grid search to the training data\n",
    "grid_search.fit(X_train, y_train)"
   ]
  },
  {
   "cell_type": "code",
   "execution_count": 26,
   "id": "48a53260",
   "metadata": {
    "execution": {
     "iopub.execute_input": "2024-10-17T06:50:34.331831Z",
     "iopub.status.busy": "2024-10-17T06:50:34.331358Z",
     "iopub.status.idle": "2024-10-17T06:50:34.337560Z",
     "shell.execute_reply": "2024-10-17T06:50:34.336404Z"
    },
    "papermill": {
     "duration": 0.028037,
     "end_time": "2024-10-17T06:50:34.340509",
     "exception": false,
     "start_time": "2024-10-17T06:50:34.312472",
     "status": "completed"
    },
    "tags": []
   },
   "outputs": [
    {
     "name": "stdout",
     "output_type": "stream",
     "text": [
      "Best Parameters: {'colsample_bytree': 0.7, 'gamma': 0, 'learning_rate': 0.2, 'max_depth': 5, 'n_estimators': 100, 'subsample': 1.0}\n",
      "Best Score (negative MSE): -636682790739.3701\n"
     ]
    }
   ],
   "source": [
    "# Extracting the best hyperparameters and score\n",
    "best_params = grid_search.best_params_\n",
    "print(\"Best Parameters:\", best_params)\n",
    "\n",
    "best_score = grid_search.best_score_\n",
    "print(\"Best Score (negative MSE):\", best_score)"
   ]
  },
  {
   "cell_type": "code",
   "execution_count": 27,
   "id": "7528d997",
   "metadata": {
    "execution": {
     "iopub.execute_input": "2024-10-17T06:50:34.376509Z",
     "iopub.status.busy": "2024-10-17T06:50:34.375839Z",
     "iopub.status.idle": "2024-10-17T06:50:34.398691Z",
     "shell.execute_reply": "2024-10-17T06:50:34.396954Z"
    },
    "papermill": {
     "duration": 0.044241,
     "end_time": "2024-10-17T06:50:34.401498",
     "exception": false,
     "start_time": "2024-10-17T06:50:34.357257",
     "status": "completed"
    },
    "tags": []
   },
   "outputs": [
    {
     "name": "stdout",
     "output_type": "stream",
     "text": [
      "Training Predictions: [1423738.9 1513360.4 5617436.5 ... 1531625.5  538184.6 3790729.2]\n",
      "Final Model RMSE: 778565.759291599\n",
      "Final Model R-squared: 0.7648210541065101\n"
     ]
    }
   ],
   "source": [
    "# Getting the best model from the grid search\n",
    "best_model = grid_search.best_estimator_\n",
    "\n",
    "# Making predictions on the training set\n",
    "train_predictions = best_model.predict(X_train)\n",
    "print(\"Training Predictions:\", train_predictions)\n",
    "\n",
    "# Making predictions on the validation set\n",
    "y_pred = best_model.predict(X_val)\n",
    "\n",
    "# Evaluating the model performance\n",
    "mse_final = mean_squared_error(y_val, y_pred)\n",
    "rmse_final = np.sqrt(mse_final)  # Root Mean Squared Error\n",
    "r2_final = r2_score(y_val, y_pred)  # R-squared\n",
    "\n",
    "# Printing the final results\n",
    "print(\"Final Model RMSE:\", rmse_final)\n",
    "print(\"Final Model R-squared:\", r2_final)"
   ]
  },
  {
   "cell_type": "markdown",
   "id": "5db46c35",
   "metadata": {
    "papermill": {
     "duration": 0.016928,
     "end_time": "2024-10-17T06:50:34.435694",
     "exception": false,
     "start_time": "2024-10-17T06:50:34.418766",
     "status": "completed"
    },
    "tags": []
   },
   "source": [
    "# Model Evaluation on Test Data"
   ]
  },
  {
   "cell_type": "code",
   "execution_count": 28,
   "id": "bf710514",
   "metadata": {
    "execution": {
     "iopub.execute_input": "2024-10-17T06:50:34.471200Z",
     "iopub.status.busy": "2024-10-17T06:50:34.470721Z",
     "iopub.status.idle": "2024-10-17T06:50:34.821820Z",
     "shell.execute_reply": "2024-10-17T06:50:34.820583Z"
    },
    "papermill": {
     "duration": 0.371869,
     "end_time": "2024-10-17T06:50:34.824396",
     "exception": false,
     "start_time": "2024-10-17T06:50:34.452527",
     "status": "completed"
    },
    "tags": []
   },
   "outputs": [],
   "source": [
    "test['date_block_num'] = max(train['date_block_num']) + 1"
   ]
  },
  {
   "cell_type": "code",
   "execution_count": 29,
   "id": "eebf8931",
   "metadata": {
    "execution": {
     "iopub.execute_input": "2024-10-17T06:50:34.860150Z",
     "iopub.status.busy": "2024-10-17T06:50:34.859297Z",
     "iopub.status.idle": "2024-10-17T06:50:35.020629Z",
     "shell.execute_reply": "2024-10-17T06:50:35.019635Z"
    },
    "papermill": {
     "duration": 0.182205,
     "end_time": "2024-10-17T06:50:35.023355",
     "exception": false,
     "start_time": "2024-10-17T06:50:34.841150",
     "status": "completed"
    },
    "tags": []
   },
   "outputs": [],
   "source": [
    "# Predict the total sales for the test set\n",
    "test_X = test[['date_block_num', 'shop_id']]\n",
    "\n",
    "test['y_test_pred'] = best_model.predict(test_X)"
   ]
  },
  {
   "cell_type": "markdown",
   "id": "1248cd58",
   "metadata": {
    "papermill": {
     "duration": 0.017245,
     "end_time": "2024-10-17T06:50:35.058904",
     "exception": false,
     "start_time": "2024-10-17T06:50:35.041659",
     "status": "completed"
    },
    "tags": []
   },
   "source": [
    "# Submission of Results"
   ]
  },
  {
   "cell_type": "code",
   "execution_count": 30,
   "id": "5307dd8e",
   "metadata": {
    "execution": {
     "iopub.execute_input": "2024-10-17T06:50:35.141670Z",
     "iopub.status.busy": "2024-10-17T06:50:35.141195Z",
     "iopub.status.idle": "2024-10-17T06:50:35.485316Z",
     "shell.execute_reply": "2024-10-17T06:50:35.484061Z"
    },
    "papermill": {
     "duration": 0.412589,
     "end_time": "2024-10-17T06:50:35.488377",
     "exception": false,
     "start_time": "2024-10-17T06:50:35.075788",
     "status": "completed"
    },
    "tags": []
   },
   "outputs": [],
   "source": [
    "# Save the predictions\n",
    "test[['ID', 'y_test_pred']].rename(columns={'y_test_pred': 'item_cnt_month'}).to_csv('submission.csv', index=False)\n"
   ]
  },
  {
   "cell_type": "code",
   "execution_count": 31,
   "id": "b89dd157",
   "metadata": {
    "execution": {
     "iopub.execute_input": "2024-10-17T06:50:35.524543Z",
     "iopub.status.busy": "2024-10-17T06:50:35.524101Z",
     "iopub.status.idle": "2024-10-17T06:50:35.593489Z",
     "shell.execute_reply": "2024-10-17T06:50:35.592254Z"
    },
    "papermill": {
     "duration": 0.090835,
     "end_time": "2024-10-17T06:50:35.596033",
     "exception": false,
     "start_time": "2024-10-17T06:50:35.505198",
     "status": "completed"
    },
    "tags": []
   },
   "outputs": [
    {
     "data": {
      "text/html": [
       "<div>\n",
       "<style scoped>\n",
       "    .dataframe tbody tr th:only-of-type {\n",
       "        vertical-align: middle;\n",
       "    }\n",
       "\n",
       "    .dataframe tbody tr th {\n",
       "        vertical-align: top;\n",
       "    }\n",
       "\n",
       "    .dataframe thead th {\n",
       "        text-align: right;\n",
       "    }\n",
       "</style>\n",
       "<table border=\"1\" class=\"dataframe\">\n",
       "  <thead>\n",
       "    <tr style=\"text-align: right;\">\n",
       "      <th></th>\n",
       "      <th>ID</th>\n",
       "      <th>item_cnt_month</th>\n",
       "    </tr>\n",
       "  </thead>\n",
       "  <tbody>\n",
       "    <tr>\n",
       "      <th>214195</th>\n",
       "      <td>214195</td>\n",
       "      <td>929660.0</td>\n",
       "    </tr>\n",
       "    <tr>\n",
       "      <th>214196</th>\n",
       "      <td>214196</td>\n",
       "      <td>929660.0</td>\n",
       "    </tr>\n",
       "    <tr>\n",
       "      <th>214197</th>\n",
       "      <td>214197</td>\n",
       "      <td>929660.0</td>\n",
       "    </tr>\n",
       "    <tr>\n",
       "      <th>214198</th>\n",
       "      <td>214198</td>\n",
       "      <td>929660.0</td>\n",
       "    </tr>\n",
       "    <tr>\n",
       "      <th>214199</th>\n",
       "      <td>214199</td>\n",
       "      <td>929660.0</td>\n",
       "    </tr>\n",
       "  </tbody>\n",
       "</table>\n",
       "</div>"
      ],
      "text/plain": [
       "            ID  item_cnt_month\n",
       "214195  214195        929660.0\n",
       "214196  214196        929660.0\n",
       "214197  214197        929660.0\n",
       "214198  214198        929660.0\n",
       "214199  214199        929660.0"
      ]
     },
     "execution_count": 31,
     "metadata": {},
     "output_type": "execute_result"
    }
   ],
   "source": [
    "submissions = pd.read_csv('/kaggle/working/submission.csv')\n",
    "submissions.tail(5)"
   ]
  }
 ],
 "metadata": {
  "kaggle": {
   "accelerator": "none",
   "dataSources": [
    {
     "databundleVersionId": 868304,
     "sourceId": 8587,
     "sourceType": "competition"
    }
   ],
   "dockerImageVersionId": 30761,
   "isGpuEnabled": false,
   "isInternetEnabled": true,
   "language": "python",
   "sourceType": "notebook"
  },
  "kernelspec": {
   "display_name": "Python 3",
   "language": "python",
   "name": "python3"
  },
  "language_info": {
   "codemirror_mode": {
    "name": "ipython",
    "version": 3
   },
   "file_extension": ".py",
   "mimetype": "text/x-python",
   "name": "python",
   "nbconvert_exporter": "python",
   "pygments_lexer": "ipython3",
   "version": "3.10.14"
  },
  "papermill": {
   "default_parameters": {},
   "duration": 37.821758,
   "end_time": "2024-10-17T06:50:38.236037",
   "environment_variables": {},
   "exception": null,
   "input_path": "__notebook__.ipynb",
   "output_path": "__notebook__.ipynb",
   "parameters": {},
   "start_time": "2024-10-17T06:50:00.414279",
   "version": "2.6.0"
  }
 },
 "nbformat": 4,
 "nbformat_minor": 5
}
